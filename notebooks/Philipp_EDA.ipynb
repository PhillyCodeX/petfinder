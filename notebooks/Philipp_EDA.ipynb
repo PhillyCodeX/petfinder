{
 "cells": [
  {
   "cell_type": "markdown",
   "metadata": {},
   "source": [
    "# Petfinder EDA"
   ]
  },
  {
   "cell_type": "markdown",
   "metadata": {},
   "source": [
    "## Set Path and import libraries"
   ]
  },
  {
   "cell_type": "code",
   "execution_count": 1,
   "metadata": {},
   "outputs": [
    {
     "name": "stdout",
     "output_type": "stream",
     "text": [
      "['breed_labels.csv', 'color_labels.csv', 'state_labels.csv', 'test.zip', 'test_images.zip', 'test_metadata.zip', 'test_sentiment.zip', 'train', 'train_images', 'train_metadata', 'train_sentiment']\n"
     ]
    }
   ],
   "source": [
    "import os \n",
    "import json\n",
    "import pandas as pd\n",
    "pd.options.mode.chained_assignment = None  # default='warn'\n",
    "\n",
    "import numpy as np\n",
    "import pandas_profiling\n",
    "import seaborn as sns\n",
    "import matplotlib.pyplot as plt\n",
    "%matplotlib inline\n",
    "\n",
    "from sklearn.linear_model import LogisticRegression\n",
    "from sklearn.model_selection import train_test_split\n",
    "from sklearn.metrics import cohen_kappa_score,  make_scorer\n",
    "from sklearn.model_selection import GridSearchCV\n",
    "from lightgbm import LGBMClassifier\n",
    "\n",
    "def squared_cohen_kappa(y1, y2):\n",
    "    return cohen_kappa_score(y1,y2)**2\n",
    "\n",
    "DATA_PATH = '../../../Dataset/petfinder'\n",
    "print(os.listdir('../../../Dataset/petfinder'))"
   ]
  },
  {
   "cell_type": "markdown",
   "metadata": {},
   "source": [
    "## Import Data"
   ]
  },
  {
   "cell_type": "code",
   "execution_count": 2,
   "metadata": {},
   "outputs": [
    {
     "data": {
      "text/html": [
       "<div>\n",
       "<style scoped>\n",
       "    .dataframe tbody tr th:only-of-type {\n",
       "        vertical-align: middle;\n",
       "    }\n",
       "\n",
       "    .dataframe tbody tr th {\n",
       "        vertical-align: top;\n",
       "    }\n",
       "\n",
       "    .dataframe thead th {\n",
       "        text-align: right;\n",
       "    }\n",
       "</style>\n",
       "<table border=\"1\" class=\"dataframe\">\n",
       "  <thead>\n",
       "    <tr style=\"text-align: right;\">\n",
       "      <th></th>\n",
       "      <th>Type</th>\n",
       "      <th>Name</th>\n",
       "      <th>Age</th>\n",
       "      <th>Breed1</th>\n",
       "      <th>Breed2</th>\n",
       "      <th>Gender</th>\n",
       "      <th>Color1</th>\n",
       "      <th>Color2</th>\n",
       "      <th>Color3</th>\n",
       "      <th>MaturitySize</th>\n",
       "      <th>...</th>\n",
       "      <th>Fee</th>\n",
       "      <th>State</th>\n",
       "      <th>RescuerID</th>\n",
       "      <th>VideoAmt</th>\n",
       "      <th>Description</th>\n",
       "      <th>PetID</th>\n",
       "      <th>PhotoAmt</th>\n",
       "      <th>AdoptionSpeed</th>\n",
       "      <th>sentiment_mag</th>\n",
       "      <th>sentiment_score</th>\n",
       "    </tr>\n",
       "  </thead>\n",
       "  <tbody>\n",
       "    <tr>\n",
       "      <th>0</th>\n",
       "      <td>2</td>\n",
       "      <td>Nibble</td>\n",
       "      <td>3</td>\n",
       "      <td>299</td>\n",
       "      <td>0</td>\n",
       "      <td>1</td>\n",
       "      <td>1</td>\n",
       "      <td>7</td>\n",
       "      <td>0</td>\n",
       "      <td>1</td>\n",
       "      <td>...</td>\n",
       "      <td>100</td>\n",
       "      <td>41326</td>\n",
       "      <td>8480853f516546f6cf33aa88cd76c379</td>\n",
       "      <td>0</td>\n",
       "      <td>Nibble is a 3+ month old ball of cuteness. He ...</td>\n",
       "      <td>86e1089a3</td>\n",
       "      <td>1.0</td>\n",
       "      <td>2</td>\n",
       "      <td>2.4</td>\n",
       "      <td>0.3</td>\n",
       "    </tr>\n",
       "    <tr>\n",
       "      <th>1</th>\n",
       "      <td>2</td>\n",
       "      <td>No Name Yet</td>\n",
       "      <td>1</td>\n",
       "      <td>265</td>\n",
       "      <td>0</td>\n",
       "      <td>1</td>\n",
       "      <td>1</td>\n",
       "      <td>2</td>\n",
       "      <td>0</td>\n",
       "      <td>2</td>\n",
       "      <td>...</td>\n",
       "      <td>0</td>\n",
       "      <td>41401</td>\n",
       "      <td>3082c7125d8fb66f7dd4bff4192c8b14</td>\n",
       "      <td>0</td>\n",
       "      <td>I just found it alone yesterday near my apartm...</td>\n",
       "      <td>6296e909a</td>\n",
       "      <td>2.0</td>\n",
       "      <td>0</td>\n",
       "      <td>0.7</td>\n",
       "      <td>-0.2</td>\n",
       "    </tr>\n",
       "    <tr>\n",
       "      <th>2</th>\n",
       "      <td>1</td>\n",
       "      <td>Brisco</td>\n",
       "      <td>1</td>\n",
       "      <td>307</td>\n",
       "      <td>0</td>\n",
       "      <td>1</td>\n",
       "      <td>2</td>\n",
       "      <td>7</td>\n",
       "      <td>0</td>\n",
       "      <td>2</td>\n",
       "      <td>...</td>\n",
       "      <td>0</td>\n",
       "      <td>41326</td>\n",
       "      <td>fa90fa5b1ee11c86938398b60abc32cb</td>\n",
       "      <td>0</td>\n",
       "      <td>Their pregnant mother was dumped by her irresp...</td>\n",
       "      <td>3422e4906</td>\n",
       "      <td>7.0</td>\n",
       "      <td>3</td>\n",
       "      <td>3.7</td>\n",
       "      <td>0.2</td>\n",
       "    </tr>\n",
       "    <tr>\n",
       "      <th>3</th>\n",
       "      <td>1</td>\n",
       "      <td>Miko</td>\n",
       "      <td>4</td>\n",
       "      <td>307</td>\n",
       "      <td>0</td>\n",
       "      <td>2</td>\n",
       "      <td>1</td>\n",
       "      <td>2</td>\n",
       "      <td>0</td>\n",
       "      <td>2</td>\n",
       "      <td>...</td>\n",
       "      <td>150</td>\n",
       "      <td>41401</td>\n",
       "      <td>9238e4f44c71a75282e62f7136c6b240</td>\n",
       "      <td>0</td>\n",
       "      <td>Good guard dog, very alert, active, obedience ...</td>\n",
       "      <td>5842f1ff5</td>\n",
       "      <td>8.0</td>\n",
       "      <td>2</td>\n",
       "      <td>0.9</td>\n",
       "      <td>0.9</td>\n",
       "    </tr>\n",
       "    <tr>\n",
       "      <th>4</th>\n",
       "      <td>1</td>\n",
       "      <td>Hunter</td>\n",
       "      <td>1</td>\n",
       "      <td>307</td>\n",
       "      <td>0</td>\n",
       "      <td>1</td>\n",
       "      <td>1</td>\n",
       "      <td>0</td>\n",
       "      <td>0</td>\n",
       "      <td>2</td>\n",
       "      <td>...</td>\n",
       "      <td>0</td>\n",
       "      <td>41326</td>\n",
       "      <td>95481e953f8aed9ec3d16fc4509537e8</td>\n",
       "      <td>0</td>\n",
       "      <td>This handsome yet cute boy is up for adoption....</td>\n",
       "      <td>850a43f90</td>\n",
       "      <td>3.0</td>\n",
       "      <td>2</td>\n",
       "      <td>3.7</td>\n",
       "      <td>0.6</td>\n",
       "    </tr>\n",
       "  </tbody>\n",
       "</table>\n",
       "<p>5 rows × 26 columns</p>\n",
       "</div>"
      ],
      "text/plain": [
       "   Type         Name  Age  Breed1  Breed2  Gender  Color1  Color2  Color3  \\\n",
       "0     2       Nibble    3     299       0       1       1       7       0   \n",
       "1     2  No Name Yet    1     265       0       1       1       2       0   \n",
       "2     1       Brisco    1     307       0       1       2       7       0   \n",
       "3     1         Miko    4     307       0       2       1       2       0   \n",
       "4     1       Hunter    1     307       0       1       1       0       0   \n",
       "\n",
       "   MaturitySize       ...         Fee  State  \\\n",
       "0             1       ...         100  41326   \n",
       "1             2       ...           0  41401   \n",
       "2             2       ...           0  41326   \n",
       "3             2       ...         150  41401   \n",
       "4             2       ...           0  41326   \n",
       "\n",
       "                          RescuerID  VideoAmt  \\\n",
       "0  8480853f516546f6cf33aa88cd76c379         0   \n",
       "1  3082c7125d8fb66f7dd4bff4192c8b14         0   \n",
       "2  fa90fa5b1ee11c86938398b60abc32cb         0   \n",
       "3  9238e4f44c71a75282e62f7136c6b240         0   \n",
       "4  95481e953f8aed9ec3d16fc4509537e8         0   \n",
       "\n",
       "                                         Description      PetID  PhotoAmt  \\\n",
       "0  Nibble is a 3+ month old ball of cuteness. He ...  86e1089a3       1.0   \n",
       "1  I just found it alone yesterday near my apartm...  6296e909a       2.0   \n",
       "2  Their pregnant mother was dumped by her irresp...  3422e4906       7.0   \n",
       "3  Good guard dog, very alert, active, obedience ...  5842f1ff5       8.0   \n",
       "4  This handsome yet cute boy is up for adoption....  850a43f90       3.0   \n",
       "\n",
       "   AdoptionSpeed sentiment_mag  sentiment_score  \n",
       "0              2           2.4              0.3  \n",
       "1              0           0.7             -0.2  \n",
       "2              3           3.7              0.2  \n",
       "3              2           0.9              0.9  \n",
       "4              2           3.7              0.6  \n",
       "\n",
       "[5 rows x 26 columns]"
      ]
     },
     "execution_count": 2,
     "metadata": {},
     "output_type": "execute_result"
    }
   ],
   "source": [
    "df = pd.read_csv(DATA_PATH+'/train/train.csv')\n",
    "train_id = df['PetID']\n",
    "\n",
    "sentiment_mag = []\n",
    "sentiment_score = []\n",
    "for pet in train_id:\n",
    "    try:\n",
    "        with open(DATA_PATH+'/train_sentiment/' + pet + '.json', 'r') as f:\n",
    "            sentiment = json.load(f)\n",
    "            #print(DATA_PATH+'/train_sentiment/' + pet + '.json')\n",
    "        sentiment_mag.append(sentiment['documentSentiment']['magnitude'])\n",
    "        sentiment_score.append(sentiment['documentSentiment']['score'])\n",
    "    except FileNotFoundError:\n",
    "        sentiment_mag.append(-1)\n",
    "        sentiment_score.append(-1)\n",
    "\n",
    "    \n",
    "df.loc[:, 'sentiment_mag'] = sentiment_mag\n",
    "df.loc[:, 'sentiment_score'] = sentiment_score\n",
    "\n",
    "df.head()"
   ]
  },
  {
   "cell_type": "code",
   "execution_count": 3,
   "metadata": {},
   "outputs": [
    {
     "name": "stdout",
     "output_type": "stream",
     "text": [
      "<class 'pandas.core.frame.DataFrame'>\n",
      "RangeIndex: 14993 entries, 0 to 14992\n",
      "Data columns (total 26 columns):\n",
      "Type               14993 non-null int64\n",
      "Name               13736 non-null object\n",
      "Age                14993 non-null int64\n",
      "Breed1             14993 non-null int64\n",
      "Breed2             14993 non-null int64\n",
      "Gender             14993 non-null int64\n",
      "Color1             14993 non-null int64\n",
      "Color2             14993 non-null int64\n",
      "Color3             14993 non-null int64\n",
      "MaturitySize       14993 non-null int64\n",
      "FurLength          14993 non-null int64\n",
      "Vaccinated         14993 non-null int64\n",
      "Dewormed           14993 non-null int64\n",
      "Sterilized         14993 non-null int64\n",
      "Health             14993 non-null int64\n",
      "Quantity           14993 non-null int64\n",
      "Fee                14993 non-null int64\n",
      "State              14993 non-null int64\n",
      "RescuerID          14993 non-null object\n",
      "VideoAmt           14993 non-null int64\n",
      "Description        14981 non-null object\n",
      "PetID              14993 non-null object\n",
      "PhotoAmt           14993 non-null float64\n",
      "AdoptionSpeed      14993 non-null int64\n",
      "sentiment_mag      14993 non-null float64\n",
      "sentiment_score    14993 non-null float64\n",
      "dtypes: float64(3), int64(19), object(4)\n",
      "memory usage: 3.0+ MB\n"
     ]
    }
   ],
   "source": [
    "df.info()"
   ]
  },
  {
   "cell_type": "code",
   "execution_count": 4,
   "metadata": {},
   "outputs": [
    {
     "data": {
      "text/html": [
       "<div>\n",
       "<style scoped>\n",
       "    .dataframe tbody tr th:only-of-type {\n",
       "        vertical-align: middle;\n",
       "    }\n",
       "\n",
       "    .dataframe tbody tr th {\n",
       "        vertical-align: top;\n",
       "    }\n",
       "\n",
       "    .dataframe thead th {\n",
       "        text-align: right;\n",
       "    }\n",
       "</style>\n",
       "<table border=\"1\" class=\"dataframe\">\n",
       "  <thead>\n",
       "    <tr style=\"text-align: right;\">\n",
       "      <th></th>\n",
       "      <th>Type</th>\n",
       "      <th>Name</th>\n",
       "      <th>Age</th>\n",
       "      <th>Breed1</th>\n",
       "      <th>Breed2</th>\n",
       "      <th>Gender</th>\n",
       "      <th>Color1</th>\n",
       "      <th>Color2</th>\n",
       "      <th>Color3</th>\n",
       "      <th>MaturitySize</th>\n",
       "      <th>...</th>\n",
       "      <th>vertex_y</th>\n",
       "      <th>bounding_confidence</th>\n",
       "      <th>bounding_importance</th>\n",
       "      <th>dominant_blue</th>\n",
       "      <th>dominant_green</th>\n",
       "      <th>dominant_red</th>\n",
       "      <th>dominant_pixel_frac</th>\n",
       "      <th>dominant_score</th>\n",
       "      <th>label_description</th>\n",
       "      <th>label_score</th>\n",
       "    </tr>\n",
       "  </thead>\n",
       "  <tbody>\n",
       "    <tr>\n",
       "      <th>0</th>\n",
       "      <td>2</td>\n",
       "      <td>Nibble</td>\n",
       "      <td>3</td>\n",
       "      <td>299</td>\n",
       "      <td>0</td>\n",
       "      <td>1</td>\n",
       "      <td>1</td>\n",
       "      <td>7</td>\n",
       "      <td>0</td>\n",
       "      <td>1</td>\n",
       "      <td>...</td>\n",
       "      <td>479</td>\n",
       "      <td>0.8</td>\n",
       "      <td>1.00</td>\n",
       "      <td>21</td>\n",
       "      <td>20</td>\n",
       "      <td>25</td>\n",
       "      <td>0.393910</td>\n",
       "      <td>0.302789</td>\n",
       "      <td>cat</td>\n",
       "      <td>0.990786</td>\n",
       "    </tr>\n",
       "    <tr>\n",
       "      <th>1</th>\n",
       "      <td>2</td>\n",
       "      <td>No Name Yet</td>\n",
       "      <td>1</td>\n",
       "      <td>265</td>\n",
       "      <td>0</td>\n",
       "      <td>1</td>\n",
       "      <td>1</td>\n",
       "      <td>2</td>\n",
       "      <td>0</td>\n",
       "      <td>2</td>\n",
       "      <td>...</td>\n",
       "      <td>376</td>\n",
       "      <td>0.8</td>\n",
       "      <td>1.00</td>\n",
       "      <td>17</td>\n",
       "      <td>24</td>\n",
       "      <td>19</td>\n",
       "      <td>0.261856</td>\n",
       "      <td>0.348178</td>\n",
       "      <td>cat</td>\n",
       "      <td>0.981269</td>\n",
       "    </tr>\n",
       "    <tr>\n",
       "      <th>2</th>\n",
       "      <td>1</td>\n",
       "      <td>Brisco</td>\n",
       "      <td>1</td>\n",
       "      <td>307</td>\n",
       "      <td>0</td>\n",
       "      <td>1</td>\n",
       "      <td>2</td>\n",
       "      <td>7</td>\n",
       "      <td>0</td>\n",
       "      <td>2</td>\n",
       "      <td>...</td>\n",
       "      <td>399</td>\n",
       "      <td>0.8</td>\n",
       "      <td>1.00</td>\n",
       "      <td>51</td>\n",
       "      <td>55</td>\n",
       "      <td>61</td>\n",
       "      <td>0.055064</td>\n",
       "      <td>0.333318</td>\n",
       "      <td>dog</td>\n",
       "      <td>0.960457</td>\n",
       "    </tr>\n",
       "    <tr>\n",
       "      <th>3</th>\n",
       "      <td>1</td>\n",
       "      <td>Miko</td>\n",
       "      <td>4</td>\n",
       "      <td>307</td>\n",
       "      <td>0</td>\n",
       "      <td>2</td>\n",
       "      <td>1</td>\n",
       "      <td>2</td>\n",
       "      <td>0</td>\n",
       "      <td>2</td>\n",
       "      <td>...</td>\n",
       "      <td>299</td>\n",
       "      <td>0.8</td>\n",
       "      <td>1.00</td>\n",
       "      <td>47</td>\n",
       "      <td>50</td>\n",
       "      <td>54</td>\n",
       "      <td>0.127818</td>\n",
       "      <td>0.136823</td>\n",
       "      <td>dog</td>\n",
       "      <td>0.978698</td>\n",
       "    </tr>\n",
       "    <tr>\n",
       "      <th>4</th>\n",
       "      <td>1</td>\n",
       "      <td>Hunter</td>\n",
       "      <td>1</td>\n",
       "      <td>307</td>\n",
       "      <td>0</td>\n",
       "      <td>1</td>\n",
       "      <td>1</td>\n",
       "      <td>0</td>\n",
       "      <td>0</td>\n",
       "      <td>2</td>\n",
       "      <td>...</td>\n",
       "      <td>426</td>\n",
       "      <td>0.8</td>\n",
       "      <td>0.98</td>\n",
       "      <td>21</td>\n",
       "      <td>19</td>\n",
       "      <td>24</td>\n",
       "      <td>0.126334</td>\n",
       "      <td>0.256168</td>\n",
       "      <td>dog</td>\n",
       "      <td>0.984346</td>\n",
       "    </tr>\n",
       "  </tbody>\n",
       "</table>\n",
       "<p>5 rows × 37 columns</p>\n",
       "</div>"
      ],
      "text/plain": [
       "   Type         Name  Age  Breed1  Breed2  Gender  Color1  Color2  Color3  \\\n",
       "0     2       Nibble    3     299       0       1       1       7       0   \n",
       "1     2  No Name Yet    1     265       0       1       1       2       0   \n",
       "2     1       Brisco    1     307       0       1       2       7       0   \n",
       "3     1         Miko    4     307       0       2       1       2       0   \n",
       "4     1       Hunter    1     307       0       1       1       0       0   \n",
       "\n",
       "   MaturitySize     ...       vertex_y  bounding_confidence  \\\n",
       "0             1     ...            479                  0.8   \n",
       "1             2     ...            376                  0.8   \n",
       "2             2     ...            399                  0.8   \n",
       "3             2     ...            299                  0.8   \n",
       "4             2     ...            426                  0.8   \n",
       "\n",
       "   bounding_importance  dominant_blue  dominant_green  dominant_red  \\\n",
       "0                 1.00             21              20            25   \n",
       "1                 1.00             17              24            19   \n",
       "2                 1.00             51              55            61   \n",
       "3                 1.00             47              50            54   \n",
       "4                 0.98             21              19            24   \n",
       "\n",
       "   dominant_pixel_frac  dominant_score label_description  label_score  \n",
       "0             0.393910        0.302789               cat     0.990786  \n",
       "1             0.261856        0.348178               cat     0.981269  \n",
       "2             0.055064        0.333318               dog     0.960457  \n",
       "3             0.127818        0.136823               dog     0.978698  \n",
       "4             0.126334        0.256168               dog     0.984346  \n",
       "\n",
       "[5 rows x 37 columns]"
      ]
     },
     "execution_count": 4,
     "metadata": {},
     "output_type": "execute_result"
    }
   ],
   "source": [
    "vertex_xs = []\n",
    "vertex_ys = []\n",
    "bounding_confidences = []\n",
    "bounding_importance_fracs = []\n",
    "dominant_blues = []\n",
    "dominant_greens = []\n",
    "dominant_reds = []\n",
    "dominant_pixel_fracs = []\n",
    "dominant_scores = []\n",
    "label_descriptions = []\n",
    "label_scores = []\n",
    "\n",
    "for pet in train_id:\n",
    "    try:\n",
    "        with open(DATA_PATH+'/train_metadata/' + pet + '-1.json', 'r') as f:\n",
    "            data = json.load(f)\n",
    "        vertex_x = data['cropHintsAnnotation']['cropHints'][0]['boundingPoly']['vertices'][2]['x']\n",
    "        vertex_xs.append(vertex_x)\n",
    "        vertex_y = data['cropHintsAnnotation']['cropHints'][0]['boundingPoly']['vertices'][2]['y']\n",
    "        vertex_ys.append(vertex_y)\n",
    "        bounding_confidence = data['cropHintsAnnotation']['cropHints'][0]['confidence']\n",
    "        bounding_confidences.append(bounding_confidence)\n",
    "        bounding_importance_frac = data['cropHintsAnnotation']['cropHints'][0].get('importanceFraction', -1)\n",
    "        bounding_importance_fracs.append(bounding_importance_frac)\n",
    "        dominant_blue = data['imagePropertiesAnnotation']['dominantColors']['colors'][0]['color']['blue']\n",
    "        dominant_blues.append(dominant_blue)\n",
    "        dominant_green = data['imagePropertiesAnnotation']['dominantColors']['colors'][0]['color']['green']\n",
    "        dominant_greens.append(dominant_green)\n",
    "        dominant_red = data['imagePropertiesAnnotation']['dominantColors']['colors'][0]['color']['red']\n",
    "        dominant_reds.append(dominant_red)\n",
    "        dominant_pixel_frac = data['imagePropertiesAnnotation']['dominantColors']['colors'][0]['pixelFraction']\n",
    "        dominant_pixel_fracs.append(dominant_pixel_frac)\n",
    "        dominant_score = data['imagePropertiesAnnotation']['dominantColors']['colors'][0]['score']\n",
    "        dominant_scores.append(dominant_score)\n",
    "        if data.get('labelAnnotations'):\n",
    "            label_description = data['labelAnnotations'][0]['description']\n",
    "            label_descriptions.append(label_description)\n",
    "            label_score = data['labelAnnotations'][0]['score']\n",
    "            label_scores.append(label_score)\n",
    "        else:\n",
    "            label_descriptions.append('nothing')\n",
    "            label_scores.append(-1)\n",
    "    except FileNotFoundError:\n",
    "        vertex_xs.append(-1)\n",
    "        vertex_ys.append(-1)\n",
    "        bounding_confidences.append(-1)\n",
    "        bounding_importance_fracs.append(-1)\n",
    "        dominant_blues.append(-1)\n",
    "        dominant_greens.append(-1)\n",
    "        dominant_reds.append(-1)\n",
    "        dominant_pixel_fracs.append(-1)\n",
    "        dominant_scores.append(-1)\n",
    "        label_descriptions.append('nothing')\n",
    "        label_scores.append(-1)\n",
    "\n",
    "df.loc[:, 'vertex_x'] = vertex_xs\n",
    "df.loc[:, 'vertex_y'] = vertex_ys\n",
    "df.loc[:, 'bounding_confidence'] = bounding_confidences\n",
    "df.loc[:, 'bounding_importance'] = bounding_importance_fracs\n",
    "df.loc[:, 'dominant_blue'] = dominant_blues\n",
    "df.loc[:, 'dominant_green'] = dominant_greens\n",
    "df.loc[:, 'dominant_red'] = dominant_reds\n",
    "df.loc[:, 'dominant_pixel_frac'] = dominant_pixel_fracs\n",
    "df.loc[:, 'dominant_score'] = dominant_scores\n",
    "df.loc[:, 'label_description'] = label_descriptions\n",
    "df.loc[:, 'label_score'] = label_scores\n",
    "\n",
    "df.head()"
   ]
  },
  {
   "cell_type": "code",
   "execution_count": 5,
   "metadata": {},
   "outputs": [
    {
     "name": "stdout",
     "output_type": "stream",
     "text": [
      "<class 'pandas.core.frame.DataFrame'>\n",
      "RangeIndex: 14993 entries, 0 to 14992\n",
      "Data columns (total 37 columns):\n",
      "Type                   14993 non-null int64\n",
      "Name                   13736 non-null object\n",
      "Age                    14993 non-null int64\n",
      "Breed1                 14993 non-null int64\n",
      "Breed2                 14993 non-null int64\n",
      "Gender                 14993 non-null int64\n",
      "Color1                 14993 non-null int64\n",
      "Color2                 14993 non-null int64\n",
      "Color3                 14993 non-null int64\n",
      "MaturitySize           14993 non-null int64\n",
      "FurLength              14993 non-null int64\n",
      "Vaccinated             14993 non-null int64\n",
      "Dewormed               14993 non-null int64\n",
      "Sterilized             14993 non-null int64\n",
      "Health                 14993 non-null int64\n",
      "Quantity               14993 non-null int64\n",
      "Fee                    14993 non-null int64\n",
      "State                  14993 non-null int64\n",
      "RescuerID              14993 non-null object\n",
      "VideoAmt               14993 non-null int64\n",
      "Description            14981 non-null object\n",
      "PetID                  14993 non-null object\n",
      "PhotoAmt               14993 non-null float64\n",
      "AdoptionSpeed          14993 non-null int64\n",
      "sentiment_mag          14993 non-null float64\n",
      "sentiment_score        14993 non-null float64\n",
      "vertex_x               14993 non-null int64\n",
      "vertex_y               14993 non-null int64\n",
      "bounding_confidence    14993 non-null float64\n",
      "bounding_importance    14993 non-null float64\n",
      "dominant_blue          14993 non-null int64\n",
      "dominant_green         14993 non-null int64\n",
      "dominant_red           14993 non-null int64\n",
      "dominant_pixel_frac    14993 non-null float64\n",
      "dominant_score         14993 non-null float64\n",
      "label_description      14993 non-null object\n",
      "label_score            14993 non-null float64\n",
      "dtypes: float64(8), int64(24), object(5)\n",
      "memory usage: 4.2+ MB\n"
     ]
    }
   ],
   "source": [
    "df.info()"
   ]
  },
  {
   "cell_type": "markdown",
   "metadata": {},
   "source": [
    "In the main data set you find about 15k animals incl. Metadata. Although there is additional data (like images for some pets) I'll start analyzing the main dataset since there are already features for creating a baseline with"
   ]
  },
  {
   "cell_type": "code",
   "execution_count": 6,
   "metadata": {},
   "outputs": [
    {
     "data": {
      "text/plain": [
       "AdoptionSpeed          1.000000\n",
       "Age                    0.100510\n",
       "Breed1                 0.107834\n",
       "Breed2                -0.018642\n",
       "Color1                -0.044192\n",
       "Color2                -0.038579\n",
       "Color3                -0.007014\n",
       "Dewormed              -0.013210\n",
       "Fee                   -0.004017\n",
       "FurLength             -0.091337\n",
       "Gender                 0.057622\n",
       "Health                 0.029382\n",
       "MaturitySize           0.045653\n",
       "PhotoAmt              -0.023233\n",
       "Quantity               0.062931\n",
       "State                  0.013119\n",
       "Sterilized            -0.083447\n",
       "Type                  -0.091240\n",
       "Vaccinated            -0.059043\n",
       "VideoAmt              -0.000571\n",
       "bounding_confidence   -0.077077\n",
       "bounding_importance   -0.077869\n",
       "dominant_blue         -0.037037\n",
       "dominant_green        -0.034008\n",
       "dominant_pixel_frac   -0.076257\n",
       "dominant_red          -0.030132\n",
       "dominant_score        -0.081885\n",
       "label_score           -0.087312\n",
       "sentiment_mag         -0.002461\n",
       "sentiment_score        0.038163\n",
       "vertex_x               0.000685\n",
       "vertex_y               0.047125\n",
       "Name: AdoptionSpeed, dtype: float64"
      ]
     },
     "execution_count": 6,
     "metadata": {},
     "output_type": "execute_result"
    }
   ],
   "source": [
    "corr = df.corr()\n",
    "corr['AdoptionSpeed'].sort_index()"
   ]
  },
  {
   "cell_type": "code",
   "execution_count": 7,
   "metadata": {},
   "outputs": [
    {
     "data": {
      "text/plain": [
       "<matplotlib.axes._subplots.AxesSubplot at 0x7efd93afda20>"
      ]
     },
     "execution_count": 7,
     "metadata": {},
     "output_type": "execute_result"
    },
    {
     "data": {
      "image/png": "[encoded data removed]",
      "text/plain": [
       "<Figure size 792x648 with 2 Axes>"
      ]
     },
     "metadata": {
      "needs_background": "light"
     },
     "output_type": "display_data"
    }
   ],
   "source": [
    "# Generate a mask for the upper triangle\n",
    "mask = np.zeros_like(corr, dtype=np.bool)\n",
    "mask[np.triu_indices_from(mask)] = True\n",
    "\n",
    "# Set up the matplotlib figure\n",
    "f, ax = plt.subplots(figsize=(11, 9))\n",
    "\n",
    "# Generate a custom diverging colormap\n",
    "cmap = sns.diverging_palette(220, 10, as_cmap=True)\n",
    "\n",
    "# Draw the heatmap with the mask and correct aspect ratio\n",
    "sns.heatmap(corr, mask=mask, cmap=cmap, vmax=.3, center=0,\n",
    "            square=True, linewidths=.5, cbar_kws={\"shrink\": .5})"
   ]
  },
  {
   "cell_type": "markdown",
   "metadata": {},
   "source": [
    "After checking the correlations with our target it looks as if there are no significant correlations between our target and the other features."
   ]
  },
  {
   "cell_type": "markdown",
   "metadata": {},
   "source": [
    "## Field Analysis"
   ]
  },
  {
   "cell_type": "markdown",
   "metadata": {},
   "source": [
    "### Target - Adoption Speed"
   ]
  },
  {
   "cell_type": "markdown",
   "metadata": {},
   "source": [
    "Contestants are required to predict this value. The value is determined by how quickly, if at all, a pet is adopted. The values are determined in the following way: \n",
    "0. Pet was adopted on the same day as it was listed. \n",
    "1. Pet was adopted between 1 and 7 days (1st week) after being listed. \n",
    "2. Pet was adopted between 8 and 30 days (1st month) after being listed. \n",
    "3. Pet was adopted between 31 and 90 days (2nd & 3rd month) after being listed. \n",
    "4. No adoption after 100 days of being listed. (There are no pets in this dataset that waited between 90 and 100 days)."
   ]
  },
  {
   "cell_type": "code",
   "execution_count": 8,
   "metadata": {},
   "outputs": [],
   "source": [
    "target = df['AdoptionSpeed']"
   ]
  },
  {
   "cell_type": "code",
   "execution_count": 9,
   "metadata": {},
   "outputs": [
    {
     "data": {
      "text/plain": [
       "Text(0.5,1,'Count of AdoptionSpeed')"
      ]
     },
     "execution_count": 9,
     "metadata": {},
     "output_type": "execute_result"
    },
    {
     "data": {
      "image/png": "[encoded data removed]",
      "text/plain": [
       "<Figure size 432x288 with 1 Axes>"
      ]
     },
     "metadata": {
      "needs_background": "light"
     },
     "output_type": "display_data"
    }
   ],
   "source": [
    "target.value_counts().sort_index().plot('barh', color='orange')\n",
    "plt.title('Count of AdoptionSpeed')"
   ]
  },
  {
   "cell_type": "code",
   "execution_count": 10,
   "metadata": {},
   "outputs": [
    {
     "data": {
      "text/plain": [
       "0     410\n",
       "1    3090\n",
       "2    4037\n",
       "3    3259\n",
       "4    4197\n",
       "Name: AdoptionSpeed, dtype: int64"
      ]
     },
     "execution_count": 10,
     "metadata": {},
     "output_type": "execute_result"
    }
   ],
   "source": [
    "target.value_counts().sort_index()"
   ]
  },
  {
   "cell_type": "markdown",
   "metadata": {},
   "source": [
    "### Names"
   ]
  },
  {
   "cell_type": "code",
   "execution_count": 11,
   "metadata": {},
   "outputs": [
    {
     "name": "stdout",
     "output_type": "stream",
     "text": [
      "Most popular names with matching AdoptionSpeed\n",
      "Baby\n",
      "0     2\n",
      "1    11\n",
      "2    15\n",
      "3    11\n",
      "4    27\n",
      "Name: AdoptionSpeed, dtype: int64\n",
      "\n",
      "\n",
      "Lucky\n",
      "0     5\n",
      "1    14\n",
      "2    16\n",
      "3    12\n",
      "4    17\n",
      "Name: AdoptionSpeed, dtype: int64\n",
      "\n",
      "\n",
      "Brownie\n",
      "0     1\n",
      "1    11\n",
      "2    14\n",
      "3    12\n",
      "4    16\n",
      "Name: AdoptionSpeed, dtype: int64\n",
      "\n",
      "\n",
      "No Name\n",
      "0     3\n",
      "1    14\n",
      "2    11\n",
      "3     6\n",
      "4    20\n",
      "Name: AdoptionSpeed, dtype: int64\n",
      "\n",
      "\n",
      "Mimi\n",
      "0     3\n",
      "1    12\n",
      "2    13\n",
      "3     7\n",
      "4    17\n",
      "Name: AdoptionSpeed, dtype: int64\n",
      "\n",
      "\n",
      "Blackie\n",
      "0     1\n",
      "1    12\n",
      "2    15\n",
      "3     9\n",
      "4    12\n",
      "Name: AdoptionSpeed, dtype: int64\n",
      "\n",
      "\n",
      "Puppy\n",
      "0     1\n",
      "1     7\n",
      "2     7\n",
      "3    11\n",
      "4    19\n",
      "Name: AdoptionSpeed, dtype: int64\n",
      "\n",
      "\n",
      "Kittens\n",
      "1     8\n",
      "2    13\n",
      "3     5\n",
      "4    13\n",
      "Name: AdoptionSpeed, dtype: int64\n",
      "\n",
      "\n",
      "Kitty\n",
      "0     1\n",
      "1    13\n",
      "2     8\n",
      "3     8\n",
      "4     9\n",
      "Name: AdoptionSpeed, dtype: int64\n",
      "\n",
      "\n",
      "Max\n",
      "1     9\n",
      "2    10\n",
      "3     9\n",
      "4    11\n",
      "Name: AdoptionSpeed, dtype: int64\n",
      "\n",
      "\n"
     ]
    }
   ],
   "source": [
    "print('Most popular names with matching AdoptionSpeed')\n",
    "for name in df['Name'].value_counts().index[:10]:\n",
    "    print(name)\n",
    "    print(df.loc[df['Name'] == name, 'AdoptionSpeed'].value_counts().sort_index())\n",
    "    print('\\n')"
   ]
  },
  {
   "cell_type": "code",
   "execution_count": 12,
   "metadata": {},
   "outputs": [],
   "source": [
    "df['Name'] = df['Name'].fillna('Unnamed')\n",
    "df['Unnamed'] = 0\n",
    "df.loc[df['Name'] == 'Unnamed', 'Unnamed'] = 1"
   ]
  },
  {
   "cell_type": "code",
   "execution_count": 13,
   "metadata": {},
   "outputs": [
    {
     "name": "stdout",
     "output_type": "stream",
     "text": [
      "% of Unnamed pets: 8.417261388648036%\n"
     ]
    }
   ],
   "source": [
    "print('% of Unnamed pets: '+str(df['Unnamed'].sum()*100/df['Unnamed'].shape[0])+'%')"
   ]
  },
  {
   "cell_type": "code",
   "execution_count": 14,
   "metadata": {},
   "outputs": [
    {
     "data": {
      "text/html": [
       "<div>\n",
       "<style scoped>\n",
       "    .dataframe tbody tr th:only-of-type {\n",
       "        vertical-align: middle;\n",
       "    }\n",
       "\n",
       "    .dataframe tbody tr th {\n",
       "        vertical-align: top;\n",
       "    }\n",
       "\n",
       "    .dataframe thead th {\n",
       "        text-align: right;\n",
       "    }\n",
       "</style>\n",
       "<table border=\"1\" class=\"dataframe\">\n",
       "  <thead>\n",
       "    <tr style=\"text-align: right;\">\n",
       "      <th>AdoptionSpeed</th>\n",
       "      <th>0</th>\n",
       "      <th>1</th>\n",
       "      <th>2</th>\n",
       "      <th>3</th>\n",
       "      <th>4</th>\n",
       "    </tr>\n",
       "    <tr>\n",
       "      <th>Unnamed</th>\n",
       "      <th></th>\n",
       "      <th></th>\n",
       "      <th></th>\n",
       "      <th></th>\n",
       "      <th></th>\n",
       "    </tr>\n",
       "  </thead>\n",
       "  <tbody>\n",
       "    <tr>\n",
       "      <th>0</th>\n",
       "      <td>0.027966</td>\n",
       "      <td>0.205302</td>\n",
       "      <td>0.271211</td>\n",
       "      <td>0.221470</td>\n",
       "      <td>0.274051</td>\n",
       "    </tr>\n",
       "    <tr>\n",
       "      <th>1</th>\n",
       "      <td>0.020602</td>\n",
       "      <td>0.214739</td>\n",
       "      <td>0.248019</td>\n",
       "      <td>0.172742</td>\n",
       "      <td>0.343899</td>\n",
       "    </tr>\n",
       "  </tbody>\n",
       "</table>\n",
       "</div>"
      ],
      "text/plain": [
       "AdoptionSpeed         0         1         2         3         4\n",
       "Unnamed                                                        \n",
       "0              0.027966  0.205302  0.271211  0.221470  0.274051\n",
       "1              0.020602  0.214739  0.248019  0.172742  0.343899"
      ]
     },
     "execution_count": 14,
     "metadata": {},
     "output_type": "execute_result"
    }
   ],
   "source": [
    "pd.crosstab(df['Unnamed'], df['AdoptionSpeed'], normalize='index')"
   ]
  },
  {
   "cell_type": "markdown",
   "metadata": {},
   "source": [
    "It looks as if unnamed pets have a slightly higher chance of not being adopted. Maybe this can be further analyzed in a feature"
   ]
  },
  {
   "cell_type": "markdown",
   "metadata": {},
   "source": [
    "## Base Model"
   ]
  },
  {
   "cell_type": "code",
   "execution_count": 15,
   "metadata": {},
   "outputs": [],
   "source": [
    "df_train, df_test = train_test_split(df, test_size=0.2)"
   ]
  },
  {
   "cell_type": "markdown",
   "metadata": {},
   "source": [
    "My Base Model (a LinearRegression) only takes numerical features. I have to either change scales or just drop them. For now I will drop my categorial features."
   ]
  },
  {
   "cell_type": "code",
   "execution_count": 16,
   "metadata": {},
   "outputs": [],
   "source": [
    "drop_feat_list = ['AdoptionSpeed', 'Name', 'RescuerID', 'Description', 'PetID', 'label_description']\n",
    "\n",
    "feature_list = list(df.columns)\n",
    "feature_list = [x for x in feature_list if x not in drop_feat_list]\n",
    "\n",
    "X = df_train[feature_list]\n",
    "y = df_train['AdoptionSpeed'].values"
   ]
  },
  {
   "cell_type": "code",
   "execution_count": 17,
   "metadata": {},
   "outputs": [
    {
     "name": "stderr",
     "output_type": "stream",
     "text": [
      "/home/pparaguya/anaconda3/lib/python3.6/site-packages/sklearn/linear_model/sag.py:334: ConvergenceWarning: The max_iter was reached which means the coef_ did not converge\n",
      "  \"the coef_ did not converge\", ConvergenceWarning)\n",
      "/home/pparaguya/anaconda3/lib/python3.6/site-packages/sklearn/linear_model/sag.py:334: ConvergenceWarning: The max_iter was reached which means the coef_ did not converge\n",
      "  \"the coef_ did not converge\", ConvergenceWarning)\n",
      "/home/pparaguya/anaconda3/lib/python3.6/site-packages/sklearn/linear_model/sag.py:334: ConvergenceWarning: The max_iter was reached which means the coef_ did not converge\n",
      "  \"the coef_ did not converge\", ConvergenceWarning)\n",
      "/home/pparaguya/anaconda3/lib/python3.6/site-packages/sklearn/linear_model/sag.py:334: ConvergenceWarning: The max_iter was reached which means the coef_ did not converge\n",
      "  \"the coef_ did not converge\", ConvergenceWarning)\n",
      "/home/pparaguya/anaconda3/lib/python3.6/site-packages/sklearn/linear_model/sag.py:334: ConvergenceWarning: The max_iter was reached which means the coef_ did not converge\n",
      "  \"the coef_ did not converge\", ConvergenceWarning)\n",
      "/home/pparaguya/anaconda3/lib/python3.6/site-packages/sklearn/linear_model/sag.py:334: ConvergenceWarning: The max_iter was reached which means the coef_ did not converge\n",
      "  \"the coef_ did not converge\", ConvergenceWarning)\n"
     ]
    },
    {
     "name": "stdout",
     "output_type": "stream",
     "text": [
      "tuned hpyerparameters :(best parameters)  {'multi_class': 'auto', 'penalty': 'l1', 'solver': 'liblinear'}\n",
      "accuracy : 0.015325934584180259\n"
     ]
    }
   ],
   "source": [
    "grid = {'penalty': ['l1','l2'], 'multi_class': ['auto'], 'solver':['liblinear','saga']}\n",
    "lm = LogisticRegression(max_iter=1000)\n",
    "\n",
    "kappa_scorer = make_scorer(squared_cohen_kappa)\n",
    "\n",
    "lm_cv=GridSearchCV(lm,grid, scoring=kappa_scorer,cv=3)\n",
    "lm_cv.fit(X,y)\n",
    "\n",
    "print(\"tuned hpyerparameters :(best parameters) \",lm_cv.best_params_)\n",
    "print(\"accuracy :\",lm_cv.best_score_)"
   ]
  },
  {
   "cell_type": "code",
   "execution_count": 18,
   "metadata": {},
   "outputs": [
    {
     "name": "stdout",
     "output_type": "stream",
     "text": [
      "Model tested! Squared Cohen Kappa: 0.017626302705220833\n"
     ]
    }
   ],
   "source": [
    "df_test['lm_pred'] = lm_cv.predict(df_test[feature_list])\n",
    "lm_kappa = squared_cohen_kappa(df_test['AdoptionSpeed'], df_test['lm_pred'])\n",
    "print('Model tested! Squared Cohen Kappa: '+str(lm_kappa))"
   ]
  },
  {
   "cell_type": "code",
   "execution_count": 19,
   "metadata": {},
   "outputs": [
    {
     "ename": "AttributeError",
     "evalue": "'GridSearchCV' object has no attribute 'feature_importance'",
     "traceback": [
      "\u001b[0;31m---------------------------------------------------------------------------\u001b[0m",
      "\u001b[0;31mAttributeError\u001b[0m                            Traceback (most recent call last)",
      "\u001b[0;32m<ipython-input-19-12a484fa1a9f>\u001b[0m in \u001b[0;36m<module>\u001b[0;34m\u001b[0m\n\u001b[0;32m----> 1\u001b[0;31m \u001b[0mlm_cv\u001b[0m\u001b[0;34m.\u001b[0m\u001b[0mfeature_importance\u001b[0m\u001b[0;34m(\u001b[0m\u001b[0;34m)\u001b[0m\u001b[0;34m\u001b[0m\u001b[0m\n\u001b[0m",
      "\u001b[0;31mAttributeError\u001b[0m: 'GridSearchCV' object has no attribute 'feature_importance'"
     ],
     "output_type": "error"
    }
   ],
   "source": [
    "lm_cv.feature_importance()"
   ]
  },
  {
   "cell_type": "markdown",
   "metadata": {},
   "source": [
    "## LightLGBM Classifier"
   ]
  },
  {
   "cell_type": "code",
   "execution_count": null,
   "metadata": {},
   "outputs": [],
   "source": [
    "lgbm = LGBMClassifier(objective='multiclass', random_state=5)\n",
    "\n",
    "lgbm.fit(X,y)\n",
    "df_test['lgbm_pred'] = lgbm.predict(df_test[feature_list])\n",
    "\n",
    "lgbm_kappa = squared_cohen_kappa(df_test['AdoptionSpeed'], df_test['lgbm_pred'])\n",
    "\n",
    "print('Model tested! Squared Cohen Kappa: '+str(lgbm_kappa))\n"
   ]
  },
  {
   "cell_type": "code",
   "execution_count": null,
   "metadata": {},
   "outputs": [],
   "source": [
    "#grid = {'learning_rate':[0.1,0.001,0.003,0.0005],'max_bin':[100,255,400,500],'num_iterations':[50,100,150,200,300,500]}\n",
    "#lgbm = LGBMClassifier(objective='multiclass', random_state=5)\n",
    "\n",
    "#lgbm_cv=GridSearchCV(lgbm,grid, scoring=kappa_scorer,cv=3)\n",
    "#lgbm_cv.fit(X,y)\n",
    "\n",
    "#print(\"tuned hpyerparameters :(best parameters) \",lgbm_cv.best_params_)\n",
    "#print(\"accuracy :\",lgbm_cv.best_score_)"
   ]
  },
  {
   "cell_type": "code",
   "execution_count": null,
   "metadata": {},
   "outputs": [],
   "source": [
    "lgbm.feature_importance()"
   ]
  }
 ],
 "metadata": {
  "kernelspec": {
   "display_name": "Python 3",
   "language": "python",
   "name": "python3"
  },
  "language_info": {
   "codemirror_mode": {
    "name": "ipython",
    "version": 3
   },
   "file_extension": ".py",
   "mimetype": "text/x-python",
   "name": "python",
   "nbconvert_exporter": "python",
   "pygments_lexer": "ipython3",
   "version": "3.7.1"
  }
 },
 "nbformat": 4,
 "nbformat_minor": 2
}
